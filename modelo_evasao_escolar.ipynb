{
 "cells": [
  {
   "cell_type": "markdown",
   "id": "6e20e269",
   "metadata": {},
   "source": [
    "### Importação das bibliotecas"
   ]
  },
  {
   "cell_type": "code",
   "execution_count": 83,
   "id": "0927a579",
   "metadata": {},
   "outputs": [],
   "source": [
    "import pandas as pd\n",
    "import unicodedata\n",
    "from pathlib import Path\n",
    "from datetime import datetime\n",
    "from typing import Optional, Dict, Tuple\n",
    "import matplotlib.pyplot as plt\n",
    "import seaborn as sns\n",
    "\n",
    "from sklearn.model_selection import train_test_split\n",
    "from sklearn.preprocessing import LabelEncoder, StandardScaler\n",
    "from sklearn.ensemble import RandomForestClassifier\n",
    "from sklearn.metrics import classification_report, confusion_matrix, accuracy_score"
   ]
  },
  {
   "cell_type": "markdown",
   "id": "c329faad",
   "metadata": {},
   "source": [
    "### Funções auxiliares de pré-processamento\n",
    "\n",
    "Esta sessão define funções utilitárias fundamentais para preparar os dados antes da análise e modelagem. Elas ajudam a:\n",
    "\n",
    "- **Remover acentos** de textos para evitar inconsistências em nomes e categorias;\n",
    "- **Padronizar os nomes das colunas** e o campo `id_discente` para evitar erros durante junções e filtragens;\n",
    "- **Arredondar valores numéricos** para facilitar leitura e evitar ruído com muitas casas decimais;\n",
    "- **Agrupar informações por discente**, permitindo criar novas variáveis agregadas, como número de cursos, reprovações, etc."
   ]
  },
  {
   "cell_type": "code",
   "execution_count": 84,
   "id": "86a7c786",
   "metadata": {},
   "outputs": [],
   "source": [
    "def remover_acentos(texto: str) -> str:\n",
    "    return unicodedata.normalize(\"NFKD\", texto).encode(\"ASCII\", \"ignore\").decode(\"ASCII\")\n",
    "\n",
    "def padronizar_colunas(df: pd.DataFrame) -> pd.DataFrame:\n",
    "    df.columns = df.columns.str.strip().str.lower()\n",
    "\n",
    "    if \"id_discente\" in df.columns:\n",
    "        df[\"id_discente\"] = df[\"id_discente\"].astype(str).str.strip().str.lower()\n",
    "\n",
    "    return df\n",
    "\n",
    "def arredondar_colunas_numericas(df: pd.DataFrame) -> pd.DataFrame:\n",
    "    colunas = df.select_dtypes(include=[\"float\", \"float64\"]).columns\n",
    "    df[colunas] = df[colunas].round(2)\n",
    "    return df\n",
    "\n",
    "def agrupar(df: pd.DataFrame, col: str, nome: str, agg: str = \"nunique\") -> pd.DataFrame:\n",
    "    return df.groupby(\"id_discente\")[col].agg(agg).reset_index(name=nome)"
   ]
  },
  {
   "cell_type": "markdown",
   "id": "9b774385",
   "metadata": {},
   "source": [
    "Esta função tem como objetivo **normalizar e agrupar descrições de situação de matrícula em categorias padronizadas**. Isso facilita a análise posterior, reduzindo a complexidade das classes possíveis. A categorização segue a seguinte lógica:\n",
    "\n",
    "- Situações contendo **\"APROVADO\"** ou **\"DISPENSADO\"** são classificadas como `\"aprovada\"`;\n",
    "- Situações contendo **\"REPROVADO\"** são classificadas como `\"reprovada\"`;\n",
    "- Situações contendo **\"TRANCADO\"**, **\"CANCELADO\"** ou **\"DESISTÊNCIA\"** são classificadas como `\"trancada\"`;\n",
    "- Situações contendo **\"INDEFERIDO\"** são classificadas como `\"indeferido\"`;\n",
    "- Qualquer outra descrição ou valor ausente é classificado como `\"outros\"`."
   ]
  },
  {
   "cell_type": "code",
   "execution_count": 85,
   "id": "5c77068a",
   "metadata": {},
   "outputs": [],
   "source": [
    "def categorizar_descricao(descricao: Optional[str]) -> str:\n",
    "    if pd.isna(descricao):\n",
    "        return \"outros\"\n",
    "\n",
    "    desc = descricao.strip().upper()\n",
    "\n",
    "    if \"APROVADO\" in desc or \"DISPENSADO\" in desc:\n",
    "        return \"aprovada\"\n",
    "    if \"REPROVADO\" in desc:\n",
    "        return \"reprovada\"\n",
    "    if any(x in desc for x in [\"TRANCADO\", \"CANCELADO\", \"DESISTENCIA\"]):\n",
    "        return \"trancada\"\n",
    "    if \"INDEFERIDO\" in desc:\n",
    "        return \"indeferido\"\n",
    "    return \"outros\""
   ]
  },
  {
   "cell_type": "markdown",
   "id": "c06e883f",
   "metadata": {},
   "source": [
    "### Carregamento e pré-processamento de dados\n",
    "\n",
    "Essas funções são responsáveis por **carregar os arquivos CSV brutos** das pastas de entrada e realizar **etapas iniciais de limpeza, padronização e filtragem**. \n",
    "\n",
    "#### `carregar_csvs_em_pasta(caminho_pasta: str)`\n",
    "Lê todos os arquivos `.csv` dentro de uma pasta fornecida e retorna um `DataFrame` único com todos os CSVs concatenados.\n",
    "\n",
    "#### `carregar_dados_pessoais()`\n",
    "Carrega os dados pessoais dos discentes a partir da pasta `./dados/dados_pessoais_discentes`:\n",
    "- Padroniza os nomes das colunas.\n",
    "- Filtra apenas discentes de **graduação**.\n",
    "- Renomeia a coluna `\"status\"` para `\"status_do_discente\"`.\n",
    "\n",
    "#### `carregar_matriculas(dados_pessoais: pd.DataFrame)`\n",
    "Carrega e processa os dados de matrícula:\n",
    "- Filtra os dados para conter apenas discentes válidos (presentes em `dados_pessoais`).\n",
    "- Converte colunas como `\"media_final\"` e `\"numero_total_faltas\"` para valores numéricos.\n",
    "- Transforma a coluna `\"reposicao\"` de string booleana para `0` ou `1`.\n",
    "\n",
    "#### `carregar_situacoes(dados_pessoais: pd.DataFrame)`\n",
    "Carrega os dados de situação dos discentes:\n",
    "- Remove acentos e normaliza o texto da coluna `\"situacao\"`.\n",
    "- Retorna apenas situações de discentes válidos.\n"
   ]
  },
  {
   "cell_type": "code",
   "execution_count": 86,
   "id": "8032d834",
   "metadata": {},
   "outputs": [],
   "source": [
    "def carregar_csvs_em_pasta(caminho_pasta: str) -> pd.DataFrame:\n",
    "    pasta = Path(caminho_pasta)\n",
    "    arquivos = list(pasta.glob(\"*.csv\"))\n",
    "\n",
    "    if not arquivos:\n",
    "        print(f\"[AVISO] Nenhum CSV encontrado em {caminho_pasta}\")\n",
    "        return pd.DataFrame()\n",
    "    \n",
    "    dfs = []\n",
    "    \n",
    "    for arquivo in arquivos:\n",
    "        try:\n",
    "            df = pd.read_csv(arquivo, sep=\";\", encoding=\"utf-8\")\n",
    "            dfs.append(df)\n",
    "        except Exception as e:\n",
    "            print(f\"[ERRO] Erro ao ler {arquivo.name}: {e}\")\n",
    "    \n",
    "    return pd.concat(dfs, ignore_index=True) if dfs else pd.DataFrame()\n",
    "\n",
    "def carregar_dados_pessoais() -> pd.DataFrame:\n",
    "    df = carregar_csvs_em_pasta(\"./dados/dados_pessoais_discentes\")\n",
    "    df = padronizar_colunas(df)\n",
    "   \n",
    "    df = df[df[\"nivel_ensino\"].str.upper().str.strip() == \"GRADUAÇÃO\"]\n",
    "    df.rename(columns={\"status\": \"status_do_discente\"}, inplace=True)\n",
    "   \n",
    "    return df\n",
    "\n",
    "def carregar_matriculas(dados_pessoais: pd.DataFrame) -> pd.DataFrame:\n",
    "    df = carregar_csvs_em_pasta(\"./dados/matriculas\")\n",
    "    df.rename(columns={\"discente\": \"id_discente\"}, inplace=True)\n",
    "   \n",
    "    df = padronizar_colunas(df)\n",
    "    df = df.loc[:, ~df.columns.duplicated()]\n",
    "   \n",
    "    df[\"media_final\"] = pd.to_numeric(df[\"media_final\"].str.replace(\",\", \".\"), errors=\"coerce\")\n",
    "    df[\"numero_total_faltas\"] = pd.to_numeric(df[\"numero_total_faltas\"], errors=\"coerce\")\n",
    "    df[\"reposicao\"] = pd.to_numeric(df[\"reposicao\"].map({\"True\": 1, \"False\": 0}), errors=\"coerce\").fillna(0)\n",
    "   \n",
    "    return df[df[\"id_discente\"].isin(dados_pessoais[\"id_discente\"])]\n",
    "\n",
    "def carregar_situacoes(dados_pessoais: pd.DataFrame) -> pd.DataFrame:\n",
    "    df = carregar_csvs_em_pasta(\"./dados/situacao_discentes\")\n",
    "    \n",
    "    if df.empty:\n",
    "        return df\n",
    "    \n",
    "    df = padronizar_colunas(df)\n",
    "    df = df[df[\"id_discente\"].isin(dados_pessoais[\"id_discente\"])]\n",
    "    df[\"situacao\"] = df[\"situacao\"].apply(lambda x: remover_acentos(x.strip().upper()) if pd.notna(x) else x)\n",
    "    \n",
    "    return df"
   ]
  },
  {
   "cell_type": "markdown",
   "id": "ebc2f534",
   "metadata": {},
   "source": [
    "### Construção das Features\n",
    "\n",
    "Nesta etapa, consolidamos diversas informações em um único DataFrame de atributos (`features`) para cada discente. A função `construir_features` realiza as seguintes operações:\n",
    "\n",
    "- **Dados Pessoais**:\n",
    "  - Converte o ano de nascimento para tipo numérico.\n",
    "  - Calcula a idade com base no ano atual.\n",
    "\n",
    "- **Informações Acadêmicas**:\n",
    "  - Categoriza as descrições das matrículas em tipos como `aprovada`, `reprovada`, `trancada` etc.\n",
    "  - Conta o número total de disciplinas cursadas (`disciplinas_cursadas`) por discente.\n",
    "  - Calcula o número de disciplinas por categoria (`disciplina_aprovada`, `disciplina_reprovada`, etc).\n",
    "  - Calcula a média geral das notas finais (`media_final_geral`).\n",
    "  - Soma o total de faltas e de aulas de reposição.\n",
    "\n",
    "- **Histórico de Situação**:\n",
    "  - Cria uma variável `semestres_cursados` a partir do histórico de situação do discente.\n",
    "  - Inclui a última situação acadêmica registrada, por exemplo, “Evadido”, “Formado”, etc.\n",
    "\n",
    "- **Tratamento de Valores Nulos**:\n",
    "  - Preenche valores ausentes em colunas numéricas com zero.\n"
   ]
  },
  {
   "cell_type": "code",
   "execution_count": 87,
   "id": "f0efb25f",
   "metadata": {},
   "outputs": [],
   "source": [
    "def construir_features(dados_pessoais: pd.DataFrame, matriculas: pd.DataFrame, situacoes: pd.DataFrame) -> pd.DataFrame:\n",
    "    features = dados_pessoais.copy()\n",
    "    \n",
    "    features[\"ano_nascimento\"] = pd.to_numeric(features[\"ano_nascimento\"], errors=\"coerce\")\n",
    "    \n",
    "    features[\"idade\"] = datetime.now().year - features[\"ano_nascimento\"]\n",
    "    \n",
    "    matriculas[\"categoria\"] = matriculas[\"descricao\"].apply(categorizar_descricao)\n",
    "    features = features.merge(agrupar(matriculas, \"id_turma\", \"disciplinas_cursadas\"), on=\"id_discente\", how=\"left\")\n",
    "    \n",
    "    categorias = matriculas.pivot_table(\n",
    "                    index=\"id_discente\", columns=\"categoria\", values=\"id_turma\", aggfunc=\"nunique\", fill_value=0\n",
    "                ).rename(columns=lambda x: f\"disciplina_{x}\").reset_index()\n",
    "    features = features.merge(categorias, on=\"id_discente\", how=\"left\")\n",
    "\n",
    "    features = features.merge(agrupar(matriculas, \"media_final\", \"media_final_geral\", agg=\"mean\"), on=\"id_discente\", how=\"left\")\n",
    "   \n",
    "    faltas_unicas = matriculas.groupby([\"id_discente\", \"id_turma\"])[\"numero_total_faltas\"].first().reset_index()\n",
    "   \n",
    "    features = features.merge(agrupar(faltas_unicas, \"numero_total_faltas\", \"total_faltas\", agg=\"sum\"), on=\"id_discente\", how=\"left\")\n",
    "    features = features.merge(agrupar(matriculas, \"reposicao\", \"total_reposicoes\", agg=\"sum\"), on=\"id_discente\", how=\"left\")\n",
    "   \n",
    "    situacoes[\"semestre\"] = situacoes[\"ano_alteracao_situacao\"].astype(str) + \".\" + situacoes[\"periodo_alteracao_situacao\"].astype(str)\n",
    "    features = features.merge(agrupar(situacoes, \"semestre\", \"semestres_cursados\"), on=\"id_discente\", how=\"left\")\n",
    "    \n",
    "    ultima_situacao = situacoes.sort_values(\"data_alteracao_situacao\").groupby(\"id_discente\").tail(1)[[\"id_discente\", \"situacao\"]]\n",
    "    features = features.merge(ultima_situacao, on=\"id_discente\", how=\"left\")\n",
    "    \n",
    "    col_numericas = [\"disciplinas_cursadas\", \"media_final_geral\", \"total_faltas\", \"total_reposicoes\", \"semestres_cursados\"]\n",
    "    features[col_numericas] = features[col_numericas].fillna(0)\n",
    "\n",
    "    return features"
   ]
  },
  {
   "cell_type": "markdown",
   "id": "7b0bc94f",
   "metadata": {},
   "source": [
    "### Criação da variável target (`aluno_evadio`)\n",
    "\n",
    "Neste bloco, é criada a variável target que será utilizada para treinar o modelo de predição de evasão. A coluna `status_do_discente` é analisada e transformada em uma variável binária chamada `aluno_evadio`. \n",
    "\n",
    "A lógica aplicada considera como aluno evadido (`1`) os discentes cujo status contém as palavras **\"CANCELADO\"** ou **\"DESISTENCIA\"** (caso haja valor não nulo na coluna). Em todos os outros casos, o valor atribuído é `0`.\n"
   ]
  },
  {
   "cell_type": "code",
   "execution_count": 88,
   "id": "35639752",
   "metadata": {},
   "outputs": [],
   "source": [
    "def criar_target(df: pd.DataFrame) -> pd.DataFrame:\n",
    "    df[\"aluno_evadio\"] = df[\"status_do_discente\"].str.upper().apply(lambda x: int(\"CANCELADO\" in x or \"DESISTENCIA\" in x) if pd.notna(x) else 0)\n",
    "    return df"
   ]
  },
  {
   "cell_type": "markdown",
   "id": "04a0ac65",
   "metadata": {},
   "source": [
    "### Limpeza de colunas irrelevantes e filtragem de dados\n",
    "\n",
    "Este bloco realiza a limpeza dos dados, removendo colunas que não são relevantes para a predição da evasão e aplicando alguns filtros de qualidade:\n",
    "\n",
    "- Remove colunas como localidade, curso, forma de ingresso, tipo de cota e status, que não serão utilizadas como variáveis explicativas.\n",
    "- A coluna `cotista`, caso exista, é convertida para valores binários (`1` para cotista, `0` para não cotista).\n",
    "- Alunos com ano de ingresso anterior a 2010 são removidos - há uma limitação nas tabelas de situações dos discentes, que iniciam a partir do ano de 2012, desse modo, havia diversos registros com valores vazios.\n",
    "- Registros com valores inválidos na coluna `sexo` são descartados (mantém-se apenas \"M\" e \"F\").\n",
    "- Ao final, qualquer linha com valores ausentes é removida com `dropna()`."
   ]
  },
  {
   "cell_type": "code",
   "execution_count": 89,
   "id": "d68e32aa",
   "metadata": {},
   "outputs": [],
   "source": [
    "def limpar_colunas_irrelevantes(df: pd.DataFrame) -> pd.DataFrame:\n",
    "    colunas_remover = [\n",
    "        \"estado_origem\", \"cidade_origem\", \"estado\", \"municipio\", \"bairro\", \"nivel_ensino\",\n",
    "        \"curso\", \"forma_ingresso\", \"tipo_cota\", \"descricao_tipo_cota\", \"status_do_discente\", \"situacao\"\n",
    "    ]\n",
    "\n",
    "    df = df.drop(columns=[col for col in colunas_remover if col in df.columns], errors=\"ignore\")\n",
    "    \n",
    "    if \"cotista\" in df.columns:\n",
    "        df[\"cotista\"] = df[\"cotista\"].astype(str).str.strip().str.lower().map({\"t\": 1, \"f\": 0}).fillna(0).astype(int)\n",
    "    \n",
    "    if \"ano_ingresso\" in df.columns:\n",
    "        df = df[df[\"ano_ingresso\"] >= 2010]\n",
    "    \n",
    "    if \"sexo\" in df.columns:\n",
    "        df = df[df[\"sexo\"].isin([\"M\", \"F\"])]\n",
    "    \n",
    "    return df.dropna()"
   ]
  },
  {
   "cell_type": "markdown",
   "id": "0fbd27b1",
   "metadata": {},
   "source": [
    "### Geração final dos dados processados\n",
    "\n",
    "Este bloco executa todo o pipeline de processamento de dados, consolidando e exportando os dados prontos para análise e modelagem:"
   ]
  },
  {
   "cell_type": "code",
   "execution_count": 90,
   "id": "f563895d",
   "metadata": {},
   "outputs": [
    {
     "name": "stderr",
     "output_type": "stream",
     "text": [
      "C:\\Users\\pedro\\AppData\\Local\\Temp\\ipykernel_17872\\829541727.py:13: DtypeWarning: Columns (16,17) have mixed types. Specify dtype option on import or set low_memory=False.\n",
      "  df = pd.read_csv(arquivo, sep=\";\", encoding=\"utf-8\")\n"
     ]
    }
   ],
   "source": [
    "def gerar_dados():\n",
    "    dados_pessoais = carregar_dados_pessoais()\n",
    "    matriculas = carregar_matriculas(dados_pessoais)\n",
    "    situacoes = carregar_situacoes(dados_pessoais)\n",
    "\n",
    "    df = construir_features(dados_pessoais, matriculas, situacoes)\n",
    "    df = criar_target(df)\n",
    "    df = limpar_colunas_irrelevantes(df)\n",
    "    df = arredondar_colunas_numericas(df)\n",
    "    \n",
    "    df.to_csv(\"dados_completos.csv\", index=False, sep=\";\", encoding=\"utf-8\")\n",
    "\n",
    "gerar_dados()"
   ]
  },
  {
   "cell_type": "markdown",
   "id": "0e8a90b6",
   "metadata": {},
   "source": [
    "### Codificação de variáveis categóricas\n",
    "\n",
    "Nesta etapa, as variáveis categóricas são transformadas em valores numéricos utilizando `LabelEncoder`."
   ]
  },
  {
   "cell_type": "code",
   "execution_count": 91,
   "id": "bd98c913",
   "metadata": {},
   "outputs": [],
   "source": [
    "def codificar_variaveis_categoricas(df: pd.DataFrame, colunas: list) -> Tuple[pd.DataFrame, Dict[str, LabelEncoder]]:\n",
    "    label_encoders = {}\n",
    "\n",
    "    for col in colunas:\n",
    "        le = LabelEncoder()\n",
    "        df[col] = le.fit_transform(df[col].astype(str))\n",
    "        label_encoders[col] = le\n",
    "        \n",
    "    return df"
   ]
  },
  {
   "cell_type": "markdown",
   "id": "a4e576ca",
   "metadata": {},
   "source": [
    "### Preparação dos dados para o modelo\n",
    "\n",
    "Antes de treinar o modelo, é necessário separar as variáveis preditoras (`X`) da variável alvo (`y`).  \n",
    "A função abaixo realiza essa separação:\n",
    "\n",
    "- Remove colunas irrelevantes para a predição, como `id_discente` e `ano_nascimento`, que não devem influenciar diretamente a evasão.\n",
    "- Define a variável alvo (`y`) como a coluna `aluno_evadio`, que indica se o estudante evadiu ou não."
   ]
  },
  {
   "cell_type": "code",
   "execution_count": 92,
   "id": "b012f800",
   "metadata": {},
   "outputs": [],
   "source": [
    "def preparar_dados(df: pd.DataFrame) -> Tuple[pd.DataFrame, pd.Series]:\n",
    "    X = df.drop(columns=[\"id_discente\", \"aluno_evadio\", \"ano_nascimento\"])\n",
    "    y = df[\"aluno_evadio\"]\n",
    "    \n",
    "    return X, y"
   ]
  },
  {
   "cell_type": "markdown",
   "id": "118bf74b",
   "metadata": {},
   "source": [
    "### Normalização dos dados\n",
    "\n",
    "Nessa sessão realizamos a normalização (z-score) dos dados de treino e teste através do `StandardScaler`, que transforma os dados para que tenham média 0 e desvio padrão 1.\n"
   ]
  },
  {
   "cell_type": "code",
   "execution_count": 93,
   "id": "ec8eacf9",
   "metadata": {},
   "outputs": [],
   "source": [
    "def normalizar_dados(X_train: pd.DataFrame, X_test: pd.DataFrame) -> Tuple[pd.DataFrame, pd.DataFrame]:\n",
    "    num_cols = X_train.select_dtypes(include=[\"float64\", \"int64\"]).columns\n",
    "    scaler = StandardScaler()\n",
    "\n",
    "    X_train[num_cols] = scaler.fit_transform(X_train[num_cols])\n",
    "    X_test[num_cols] = scaler.transform(X_test[num_cols])\n",
    "    \n",
    "    return X_train, X_test"
   ]
  },
  {
   "cell_type": "markdown",
   "id": "903cc517",
   "metadata": {},
   "source": [
    "### Treinamento do Modelo\n",
    "\n",
    "Neste estágio, realizamos o carregamento dos dados, pré-processamento e o treinamento de um modelo de classificação utilizando o modelo RandomForest."
   ]
  },
  {
   "cell_type": "code",
   "execution_count": 94,
   "id": "ed2ffb70",
   "metadata": {},
   "outputs": [],
   "source": [
    "df = pd.read_csv(\"dados_completos.csv\", sep=\";\")\n",
    "\n",
    "df = codificar_variaveis_categoricas(df, colunas=[\"sexo\", \"raca\"])\n",
    "\n",
    "X, y = preparar_dados(df)\n",
    "X_train, X_test, y_train, y_test = train_test_split(X, y, test_size=0.2, random_state=42)\n",
    "X_train, X_test = normalizar_dados(X_train, X_test)\n",
    "\n",
    "modelo = RandomForestClassifier(class_weight=\"balanced\", random_state=42)\n",
    "modelo.fit(X_train, y_train)\n",
    "\n",
    "y_pred = modelo.predict(X_test)"
   ]
  },
  {
   "cell_type": "markdown",
   "id": "cdb94d63",
   "metadata": {},
   "source": [
    "### Avaliação do Modelo\n",
    "\n",
    "Após o treinamento, avaliamos o desempenho do modelo utilizando métricas clássicas de classificação:"
   ]
  },
  {
   "cell_type": "code",
   "execution_count": 95,
   "id": "74ba2432",
   "metadata": {},
   "outputs": [
    {
     "name": "stdout",
     "output_type": "stream",
     "text": [
      "\n",
      "✅ Acurácia do modelo: 0.9067\n",
      "\n",
      "📋 Relatório de Classificação:\n",
      "              precision    recall  f1-score   support\n",
      "\n",
      "  Não Evadiu       0.89      0.93      0.91      8590\n",
      "     Evadido       0.92      0.88      0.90      8068\n",
      "\n",
      "    accuracy                           0.91     16658\n",
      "   macro avg       0.91      0.91      0.91     16658\n",
      "weighted avg       0.91      0.91      0.91     16658\n",
      "\n"
     ]
    }
   ],
   "source": [
    "accuracy = accuracy_score(y_test, y_pred)\n",
    "print(f\"\\n✅ Acurácia do modelo: {accuracy:.4f}\")\n",
    "\n",
    "report = classification_report(y_test, y_pred, target_names=[\"Não Evadiu\", \"Evadido\"], zero_division=0)\n",
    "print(\"\\n📋 Relatório de Classificação:\")\n",
    "print(report)"
   ]
  },
  {
   "cell_type": "markdown",
   "id": "81ca4002",
   "metadata": {},
   "source": [
    "O modelo acertou aproximadamente **90,67%** das previsões totais, indicando um bom desempenho geral na classificação dos alunos como evadidos ou não evadidos.\n",
    "\n",
    "- **Precision (Precisão):**  \n",
    "  Para a classe *Não Evadiu*, **89%** das vezes que o modelo previu \"não evadiu\" estava correto. Para a classe *Evadido*, essa precisão foi de **92%**.  \n",
    "  Isso indica que o modelo comete menos falsos positivos para a classe *Evadido*.\n",
    "\n",
    "- **Recall (Sensibilidade):**  \n",
    "  O recall mede a capacidade do modelo de identificar corretamente os verdadeiros positivos. Para *Não Evadiu*, o modelo recuperou **93%** dos casos reais dessa classe; para *Evadido*, recuperou **88%**.  \n",
    "  Ou seja, o modelo é um pouco melhor em identificar os alunos que não evadiram do que os que evadiram.\n",
    "\n",
    "- **F1-score:**  \n",
    "  Ambos os valores são altos, **0.91** e **0.90**, indicando que o modelo mantém um bom equilíbrio entre evitar falsos positivos e falsos negativos.\n",
    "\n",
    "- **Support:**  \n",
    "  Número real de exemplos de cada classe no conjunto de teste, mostra que as classes estão relativamente balanceadas (**8.590** e **8.068**)."
   ]
  },
  {
   "cell_type": "code",
   "execution_count": 96,
   "id": "6f6d49d6",
   "metadata": {},
   "outputs": [
    {
     "name": "stderr",
     "output_type": "stream",
     "text": [
      "C:\\Users\\pedro\\AppData\\Local\\Temp\\ipykernel_17872\\165996523.py:7: FutureWarning: \n",
      "\n",
      "Passing `palette` without assigning `hue` is deprecated and will be removed in v0.14.0. Assign the `y` variable to `hue` and set `legend=False` for the same effect.\n",
      "\n",
      "  sns.barplot(x=features.values[:top_n], y=features.index[:top_n], palette=\"viridis\")\n"
     ]
    },
    {
     "data": {
      "image/png": "[encoded data removed]",
      "text/plain": [
       "<Figure size 1000x600 with 1 Axes>"
      ]
     },
     "metadata": {},
     "output_type": "display_data"
    }
   ],
   "source": [
    "def plotar_importancia_das_features(modelo: RandomForestClassifier, X: pd.DataFrame, top_n: int = 20):\n",
    "    importancias = modelo.feature_importances_\n",
    "\n",
    "    features = pd.Series(importancias, index=X.columns).sort_values(ascending=False)\n",
    "    \n",
    "    plt.figure(figsize=(10, 6))\n",
    "    sns.barplot(x=features.values[:top_n], y=features.index[:top_n], palette=\"viridis\")\n",
    "    \n",
    "    plt.title(f\"Features mais importantes\")\n",
    "    plt.xlabel(\"Importância\")\n",
    "    plt.ylabel(\"Variável\")\n",
    "    plt.tight_layout()\n",
    "    \n",
    "    plt.show()\n",
    "\n",
    "plotar_importancia_das_features(modelo, X_train)"
   ]
  },
  {
   "cell_type": "markdown",
   "id": "90f425fb",
   "metadata": {},
   "source": [
    "- **`disciplina_aprovada`** e **`media_final_geral`** são as variáveis com maior importância para o modelo.\n",
    "  - Isso indica que alunos com um bom desempenho acadêmico (boas médias e maior número de aprovações) têm menor probabilidade de evadir.\n",
    "  - O modelo entende que o sucesso nas disciplinas está fortemente associado à permanência.\n",
    "\n",
    "- **`disciplinas_cursadas`**, **`disciplina_trancada`**, **`disciplina_reprovada`** e **`total_faltas`** também possuem peso relevante.\n",
    "  - Essas variáveis refletem o **comportamento acadêmico e o nível de engajamento** do estudante.\n",
    "  - Muitas reprovações, faltas ou trancamentos podem ser sinais de risco de evasão.\n",
    "\n",
    "- **`semestres_cursados`**, **`ano_ingresso`** e **`idade`** contribuem para o modelo, embora com menor influência.\n",
    "\n",
    "- Variáveis como **`sexo`**, **`raca`**, **`cotista`**, **`periodo_ingresso`** e **`total_reposicoes`** apresentam impacto quase nulo na previsão.\n",
    "  - Isso indica que, neste conjunto de dados, **informações demográficas e administrativas têm pouca relevância direta** para prever a evasão."
   ]
  },
  {
   "cell_type": "code",
   "execution_count": 97,
   "id": "1c61136c",
   "metadata": {},
   "outputs": [
    {
     "data": {
      "image/png": "[encoded data removed]",
      "text/plain": [
       "<Figure size 600x500 with 2 Axes>"
      ]
     },
     "metadata": {},
     "output_type": "display_data"
    }
   ],
   "source": [
    "def plotar_matriz_de_confusao(y_true, y_pred, labels=[\"Não Evadiu\", \"Evadido\"]):\n",
    "    cm = confusion_matrix(y_true, y_pred)\n",
    "    plt.figure(figsize=(6, 5))\n",
    "    sns.heatmap(cm, annot=True, fmt=\"d\", cmap=\"Blues\", xticklabels=labels, yticklabels=labels)\n",
    "    plt.title(\"Matriz de Confusão\")\n",
    "    plt.xlabel(\"Predição\")\n",
    "    plt.ylabel(\"Real\")\n",
    "    plt.tight_layout()\n",
    "    plt.show()\n",
    "\n",
    "plotar_matriz_de_confusao(y_test, y_pred)"
   ]
  },
  {
   "cell_type": "markdown",
   "id": "3e882365",
   "metadata": {},
   "source": [
    "- **7987** alunos corretamente classificados como **\"Não Evadiu\"** (*Verdadeiros Negativos*).\n",
    "- **7117** alunos corretamente classificados como **\"Evadiu\"** (*Verdadeiros Positivos*).\n",
    "- **603** alunos que **não evadiram** foram classificados como **evadidos** (*Falsos Positivos*).\n",
    "- **951** alunos que **evadiram** foram classificados como **não evadidos** (*Falsos Negativos*).\n",
    "\n",
    "O modelo apresenta **desempenho robusto** em ambas as classes, com mais acertos do que erros em todos os casos. Além disso, o modelo é ligeiramente melhor em identificar quem **não irá evadir**, mas também é bastante eficaz em prever quem **irá evadir** — ponto crucial para ações preventivas. Os **falsos negativos** (alunos que vão evadir, mas foram previstos como \"não evadidos\") são os mais críticos, pois podem impedir que a instituição intervenha a tempo. Ainda assim, o número de **951 falsos negativos** é relativamente baixo, o que mostra que o modelo tem bom desempenho **na antecipação de casos de evasão**.\n",
    "\n",
    "Por fim, o modelo apresenta **alta capacidade preditiva para a evasão**, acertando a maioria dos casos tanto de alunos que permanecem quanto dos que evadem. Isso o torna eficaz para **identificar alunos em risco**, permitindo intervenções mais direcionadas e estratégias institucionais de retenção estudantil.\n"
   ]
  }
 ],
 "metadata": {
  "kernelspec": {
   "display_name": "Python 3",
   "language": "python",
   "name": "python3"
  },
  "language_info": {
   "codemirror_mode": {
    "name": "ipython",
    "version": 3
   },
   "file_extension": ".py",
   "mimetype": "text/x-python",
   "name": "python",
   "nbconvert_exporter": "python",
   "pygments_lexer": "ipython3",
   "version": "3.12.1"
  }
 },
 "nbformat": 4,
 "nbformat_minor": 5
}
